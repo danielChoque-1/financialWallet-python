{
 "cells": [
  {
   "cell_type": "markdown",
   "id": "8b0781b1-a61b-40e3-984b-17f0945fd8f6",
   "metadata": {},
   "source": [
    "# CONSTRUCCION DE CARTERA FINANCIERA"
   ]
  },
  {
   "cell_type": "markdown",
   "id": "86425b25-02b0-458b-af54-e9606447fd19",
   "metadata": {},
   "source": [
    "# Librerías"
   ]
  },
  {
   "cell_type": "code",
   "execution_count": 1,
   "id": "a63b7ac1-f4a8-4167-b3cc-a273c8300e9e",
   "metadata": {},
   "outputs": [],
   "source": [
    "import numpy as np\n",
    "import matplotlib.pyplot as plt\n",
    "import pandas as pd"
   ]
  },
  {
   "cell_type": "markdown",
   "id": "0c9fadd1-d382-483f-b0c7-7d43651df850",
   "metadata": {},
   "source": [
    "# Lectura de Base de Datos"
   ]
  },
  {
   "cell_type": "code",
   "execution_count": 2,
   "id": "279d1546-dd0f-4877-b8db-d074218a8041",
   "metadata": {},
   "outputs": [],
   "source": [
    "data_route = \"../data/\""
   ]
  },
  {
   "cell_type": "code",
   "execution_count": 3,
   "id": "2e35f653-56bd-4646-931c-5744b2510e70",
   "metadata": {},
   "outputs": [],
   "source": [
    "expenses_filename = 'expenses.csv'\n",
    "incomes_filename = 'incomes.csv'"
   ]
  },
  {
   "cell_type": "code",
   "execution_count": 4,
   "id": "3e034d57-116f-4e30-9724-795996663dae",
   "metadata": {},
   "outputs": [],
   "source": [
    "expenses = pd.read_csv(data_route+expenses_filename)\n",
    "incomes = pd.read_csv(data_route+incomes_filename)"
   ]
  },
  {
   "cell_type": "code",
   "execution_count": 5,
   "id": "696107c8-52be-427a-b2b4-550f25636510",
   "metadata": {},
   "outputs": [
    {
     "data": {
      "text/html": [
       "<div>\n",
       "<style scoped>\n",
       "    .dataframe tbody tr th:only-of-type {\n",
       "        vertical-align: middle;\n",
       "    }\n",
       "\n",
       "    .dataframe tbody tr th {\n",
       "        vertical-align: top;\n",
       "    }\n",
       "\n",
       "    .dataframe thead th {\n",
       "        text-align: right;\n",
       "    }\n",
       "</style>\n",
       "<table border=\"1\" class=\"dataframe\">\n",
       "  <thead>\n",
       "    <tr style=\"text-align: right;\">\n",
       "      <th></th>\n",
       "      <th>DATE</th>\n",
       "      <th>AMOUNT</th>\n",
       "      <th>CATEGORY</th>\n",
       "      <th>THERD-PARTY</th>\n",
       "      <th>DESCRIPTION</th>\n",
       "    </tr>\n",
       "  </thead>\n",
       "  <tbody>\n",
       "    <tr>\n",
       "      <th>0</th>\n",
       "      <td>20-09-2023</td>\n",
       "      <td>500</td>\n",
       "      <td>VARIABLE</td>\n",
       "      <td>merval</td>\n",
       "      <td>inscripcion a curso de Python</td>\n",
       "    </tr>\n",
       "  </tbody>\n",
       "</table>\n",
       "</div>"
      ],
      "text/plain": [
       "         DATE  AMOUNT  CATEGORY THERD-PARTY                    DESCRIPTION\n",
       "0  20-09-2023     500  VARIABLE      merval  inscripcion a curso de Python"
      ]
     },
     "execution_count": 5,
     "metadata": {},
     "output_type": "execute_result"
    }
   ],
   "source": [
    "incomes"
   ]
  },
  {
   "cell_type": "code",
   "execution_count": 6,
   "id": "67375c0b-75b5-49b5-a7ed-8698f3a164f6",
   "metadata": {},
   "outputs": [
    {
     "data": {
      "text/plain": [
       "Index(['DATE', 'AMOUNT', 'CATEGORY', 'THERD-PARTY', 'DESCRIPTION'], dtype='object')"
      ]
     },
     "execution_count": 6,
     "metadata": {},
     "output_type": "execute_result"
    }
   ],
   "source": [
    "expenses.columns"
   ]
  },
  {
   "cell_type": "code",
   "execution_count": 7,
   "id": "7bc99a62-27b1-4703-83fe-0b1d87ea2827",
   "metadata": {
    "scrolled": true
   },
   "outputs": [
    {
     "data": {
      "text/plain": [
       "0    500\n",
       "Name: AMOUNT, dtype: int64"
      ]
     },
     "execution_count": 7,
     "metadata": {},
     "output_type": "execute_result"
    }
   ],
   "source": [
    "incomes['AMOUNT']"
   ]
  },
  {
   "cell_type": "code",
   "execution_count": 8,
   "id": "2ea79040-87b9-4a0d-bb1d-9738d65041d1",
   "metadata": {},
   "outputs": [
    {
     "data": {
      "text/plain": [
       "500"
      ]
     },
     "execution_count": 8,
     "metadata": {},
     "output_type": "execute_result"
    }
   ],
   "source": [
    "incomes['AMOUNT'].sum()"
   ]
  },
  {
   "cell_type": "code",
   "execution_count": 9,
   "id": "f3f69fbd-5f39-4fd6-bf49-e14f4e8d75f1",
   "metadata": {},
   "outputs": [
    {
     "data": {
      "text/plain": [
       "'inscripcion a curso de Python'"
      ]
     },
     "execution_count": 9,
     "metadata": {},
     "output_type": "execute_result"
    }
   ],
   "source": [
    "incomes.loc[0]['DESCRIPTION']\n"
   ]
  },
  {
   "cell_type": "code",
   "execution_count": 10,
   "id": "f1fe45d9-57f1-4176-a35a-f8507e555923",
   "metadata": {},
   "outputs": [
    {
     "name": "stdout",
     "output_type": "stream",
     "text": [
      "1\n"
     ]
    }
   ],
   "source": [
    "n = len(incomes)\n",
    "print(n)"
   ]
  },
  {
   "cell_type": "code",
   "execution_count": 11,
   "id": "a4c2a84e-2f46-4cc2-be62-fe176878fc7d",
   "metadata": {},
   "outputs": [],
   "source": [
    "incomes.loc[n] = ['20-09-2023',300,'VARIABLE','merval','Curso intensivo Solidity']"
   ]
  },
  {
   "cell_type": "code",
   "execution_count": 12,
   "id": "863b4081-e21d-4a1c-b2df-42653aebe193",
   "metadata": {
    "scrolled": true
   },
   "outputs": [
    {
     "data": {
      "text/html": [
       "<div>\n",
       "<style scoped>\n",
       "    .dataframe tbody tr th:only-of-type {\n",
       "        vertical-align: middle;\n",
       "    }\n",
       "\n",
       "    .dataframe tbody tr th {\n",
       "        vertical-align: top;\n",
       "    }\n",
       "\n",
       "    .dataframe thead th {\n",
       "        text-align: right;\n",
       "    }\n",
       "</style>\n",
       "<table border=\"1\" class=\"dataframe\">\n",
       "  <thead>\n",
       "    <tr style=\"text-align: right;\">\n",
       "      <th></th>\n",
       "      <th>DATE</th>\n",
       "      <th>AMOUNT</th>\n",
       "      <th>CATEGORY</th>\n",
       "      <th>THERD-PARTY</th>\n",
       "      <th>DESCRIPTION</th>\n",
       "    </tr>\n",
       "  </thead>\n",
       "  <tbody>\n",
       "    <tr>\n",
       "      <th>0</th>\n",
       "      <td>20-09-2023</td>\n",
       "      <td>500</td>\n",
       "      <td>VARIABLE</td>\n",
       "      <td>merval</td>\n",
       "      <td>inscripcion a curso de Python</td>\n",
       "    </tr>\n",
       "    <tr>\n",
       "      <th>1</th>\n",
       "      <td>20-09-2023</td>\n",
       "      <td>300</td>\n",
       "      <td>VARIABLE</td>\n",
       "      <td>merval</td>\n",
       "      <td>Curso intensivo Solidity</td>\n",
       "    </tr>\n",
       "  </tbody>\n",
       "</table>\n",
       "</div>"
      ],
      "text/plain": [
       "         DATE  AMOUNT  CATEGORY THERD-PARTY                    DESCRIPTION\n",
       "0  20-09-2023     500  VARIABLE      merval  inscripcion a curso de Python\n",
       "1  20-09-2023     300  VARIABLE      merval       Curso intensivo Solidity"
      ]
     },
     "execution_count": 12,
     "metadata": {},
     "output_type": "execute_result"
    }
   ],
   "source": [
    "incomes"
   ]
  },
  {
   "cell_type": "code",
   "execution_count": 13,
   "id": "0c2d102f-2c5d-4a9a-af91-05784f4d0bab",
   "metadata": {},
   "outputs": [],
   "source": [
    "### Class Construction ###"
   ]
  },
  {
   "cell_type": "code",
   "execution_count": 14,
   "id": "b7cb03e0-5dc2-463c-92a1-c03526424077",
   "metadata": {
    "scrolled": true
   },
   "outputs": [],
   "source": [
    "class FinancialWallet:\n",
    "    def __init__(self,inputs):\n",
    "        self.inputs = inputs\n",
    "        self.incomes = pd.read_csv(self.inputs['data_route'] + self.inputs['incomes_filename'])\n",
    "        self.expenses = pd.read_csv(self.inputs['data_route'] + self.inputs['expenses_filename'])\n",
    "        ## Actions to perform ##\n",
    "\n",
    "    # Add income to database\n",
    "    def add_income(self):\n",
    "        date = input('date: ')\n",
    "        amount = input('amount: ')\n",
    "        category = input('category:')\n",
    "        third_party = input('third_party: ')\n",
    "        description = input('description: ')\n",
    "\n",
    "        new_income = [date,amount,category,therd_party,description]\n",
    "\n",
    "        n = len(self.incomes)\n",
    "        self.incomes.loc[n] = new_income\n",
    "\n",
    "        self.incomes.to_csv(self.inputs['data_route']+self.inputs['incomes_filename'],index=False)\n",
    "\n",
    "\n",
    "    ## Add expense to database\n",
    "    def add_expense(self):\n",
    "        date = input('date: ')\n",
    "        amount = input('amount: ')\n",
    "        category = input('category:')\n",
    "        third_party = input('third_party: ')\n",
    "        description = input('description: ')\n",
    "\n",
    "        new_expense = [date,amount,category,therd_party,description]\n",
    "\n",
    "        n = len(self.expenses)\n",
    "        self.expenses.loc[n] = new_expense\n",
    "\n",
    "        self.expenses.to_csv(self.inputs['data_route']+self.inputs['expenses_filename'],index=False)\n",
    "\n",
    "\n",
    "    # Calculate the total incomes\n",
    "    def total_income(self):\n",
    "        total = self.incomes['AMOUNT'].sum()\n",
    "        return total\n",
    "\n",
    "    # Calculate the total expenses\n",
    "    def total_expense(self):\n",
    "        total = self.expenses['AMOUNT'].sum()\n",
    "        return total\n",
    "        pass\n",
    "\n",
    "    # Calculate the total balance income - expense\n",
    "    def balance(self):\n",
    "        balance = self.total_income() - self.total_expense()\n",
    "        return balance\n",
    "\n",
    "    # Create financial report using the functions above\n",
    "    def financial_report(self):\n",
    "        \n",
    "        print('\\n' + 'Financial Report' + '\\n')\n",
    "        print(f'Total Income: ${self.total_income()}')\n",
    "        print(f'Total Expense: ${self.total_expense()}')\n",
    "        print(f'Balance: ${self.balance()}')\n",
    "        if self.balance() > 0:\n",
    "            print('Dont forget to save some of your left-off money! great job!')\n",
    "        else:\n",
    "            print('The responsible with finance, and find a low rate loan!')\n",
    "        \n",
    "        "
   ]
  },
  {
   "cell_type": "code",
   "execution_count": 15,
   "id": "6c6e4ffc-cd2a-47a6-b9f7-3b17f415bd5f",
   "metadata": {},
   "outputs": [],
   "source": [
    "inputs = {\n",
    "    'data_route' : '../data/',\n",
    "    'expenses_filename' : 'expenses.csv',\n",
    "    'incomes_filename' : 'incomes.csv'\n",
    "}"
   ]
  },
  {
   "cell_type": "code",
   "execution_count": 16,
   "id": "d9560d76-b07d-43a1-ad85-88d6849676a8",
   "metadata": {},
   "outputs": [],
   "source": [
    "cartera = FinancialWallet(inputs)"
   ]
  },
  {
   "cell_type": "code",
   "execution_count": 17,
   "id": "83f73933-3710-41b0-83e3-dbdd61aa6b33",
   "metadata": {},
   "outputs": [
    {
     "name": "stdout",
     "output_type": "stream",
     "text": [
      "\n",
      "Financial Report\n",
      "\n",
      "Total Income: $500\n",
      "Total Expense: $100\n",
      "Balance: $400\n",
      "Dont forget to save some of your left-off money! great job!\n"
     ]
    }
   ],
   "source": [
    "cartera.financial_report()"
   ]
  },
  {
   "cell_type": "code",
   "execution_count": 18,
   "id": "abff7b93-ec53-46d8-aa42-031127e00334",
   "metadata": {},
   "outputs": [
    {
     "data": {
      "text/html": [
       "<div>\n",
       "<style scoped>\n",
       "    .dataframe tbody tr th:only-of-type {\n",
       "        vertical-align: middle;\n",
       "    }\n",
       "\n",
       "    .dataframe tbody tr th {\n",
       "        vertical-align: top;\n",
       "    }\n",
       "\n",
       "    .dataframe thead th {\n",
       "        text-align: right;\n",
       "    }\n",
       "</style>\n",
       "<table border=\"1\" class=\"dataframe\">\n",
       "  <thead>\n",
       "    <tr style=\"text-align: right;\">\n",
       "      <th></th>\n",
       "      <th>DATE</th>\n",
       "      <th>AMOUNT</th>\n",
       "      <th>CATEGORY</th>\n",
       "      <th>THERD-PARTY</th>\n",
       "      <th>DESCRIPTION</th>\n",
       "    </tr>\n",
       "  </thead>\n",
       "  <tbody>\n",
       "    <tr>\n",
       "      <th>0</th>\n",
       "      <td>21-09-2023</td>\n",
       "      <td>100</td>\n",
       "      <td>VARIABLE</td>\n",
       "      <td>ypf</td>\n",
       "      <td>cafe</td>\n",
       "    </tr>\n",
       "  </tbody>\n",
       "</table>\n",
       "</div>"
      ],
      "text/plain": [
       "         DATE  AMOUNT  CATEGORY THERD-PARTY DESCRIPTION\n",
       "0  21-09-2023     100  VARIABLE         ypf        cafe"
      ]
     },
     "execution_count": 18,
     "metadata": {},
     "output_type": "execute_result"
    }
   ],
   "source": [
    "cartera.expenses"
   ]
  },
  {
   "cell_type": "code",
   "execution_count": 19,
   "id": "9a642190-79c4-43f1-b6bf-820274b7ba07",
   "metadata": {},
   "outputs": [
    {
     "data": {
      "text/html": [
       "<div>\n",
       "<style scoped>\n",
       "    .dataframe tbody tr th:only-of-type {\n",
       "        vertical-align: middle;\n",
       "    }\n",
       "\n",
       "    .dataframe tbody tr th {\n",
       "        vertical-align: top;\n",
       "    }\n",
       "\n",
       "    .dataframe thead th {\n",
       "        text-align: right;\n",
       "    }\n",
       "</style>\n",
       "<table border=\"1\" class=\"dataframe\">\n",
       "  <thead>\n",
       "    <tr style=\"text-align: right;\">\n",
       "      <th></th>\n",
       "      <th>DATE</th>\n",
       "      <th>AMOUNT</th>\n",
       "      <th>CATEGORY</th>\n",
       "      <th>THERD-PARTY</th>\n",
       "      <th>DESCRIPTION</th>\n",
       "    </tr>\n",
       "  </thead>\n",
       "  <tbody>\n",
       "    <tr>\n",
       "      <th>0</th>\n",
       "      <td>20-09-2023</td>\n",
       "      <td>500</td>\n",
       "      <td>VARIABLE</td>\n",
       "      <td>merval</td>\n",
       "      <td>inscripcion a curso de Python</td>\n",
       "    </tr>\n",
       "  </tbody>\n",
       "</table>\n",
       "</div>"
      ],
      "text/plain": [
       "         DATE  AMOUNT  CATEGORY THERD-PARTY                    DESCRIPTION\n",
       "0  20-09-2023     500  VARIABLE      merval  inscripcion a curso de Python"
      ]
     },
     "execution_count": 19,
     "metadata": {},
     "output_type": "execute_result"
    }
   ],
   "source": [
    "cartera.incomes\n"
   ]
  },
  {
   "cell_type": "code",
   "execution_count": null,
   "id": "7041e09c-e636-4666-89d9-296d8291c9cd",
   "metadata": {},
   "outputs": [],
   "source": []
  }
 ],
 "metadata": {
  "kernelspec": {
   "display_name": "Python 3 (ipykernel)",
   "language": "python",
   "name": "python3"
  },
  "language_info": {
   "codemirror_mode": {
    "name": "ipython",
    "version": 3
   },
   "file_extension": ".py",
   "mimetype": "text/x-python",
   "name": "python",
   "nbconvert_exporter": "python",
   "pygments_lexer": "ipython3",
   "version": "3.10.7"
  }
 },
 "nbformat": 4,
 "nbformat_minor": 5
}
